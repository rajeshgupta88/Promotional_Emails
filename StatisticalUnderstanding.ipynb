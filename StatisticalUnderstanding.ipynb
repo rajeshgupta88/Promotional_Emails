{
 "cells": [
  {
   "cell_type": "code",
   "execution_count": 152,
   "metadata": {
    "collapsed": false
   },
   "outputs": [],
   "source": [
    "import pandas as pd\n",
    "import numpy as np\n",
    "import datetime as dt\n",
    "import matplotlib.pyplot as plt\n",
    "%matplotlib inline\n",
    "plt.style.use('ggplot')"
   ]
  },
  {
   "cell_type": "code",
   "execution_count": 153,
   "metadata": {
    "collapsed": true
   },
   "outputs": [],
   "source": [
    "sends_df= pd.read_csv(\"sends.csv\", date_parser=True)\n",
    "users_df = pd.read_csv(\"User info.csv\")\n",
    "events_df= pd.read_csv(\"events.txt\", sep='\\t')"
   ]
  },
  {
   "cell_type": "code",
   "execution_count": 154,
   "metadata": {
    "collapsed": false
   },
   "outputs": [],
   "source": [
    "sends_df['send_dt'] = pd.to_datetime(sends_df['send_dt'])\n",
    "users_df['aq_dt'] = pd.to_datetime(users_df['aq_dt'])\n",
    "events_df['event_captured_dt']= pd.to_datetime(events_df['event_captured_dt'])"
   ]
  },
  {
   "cell_type": "code",
   "execution_count": 155,
   "metadata": {
    "collapsed": false
   },
   "outputs": [],
   "source": [
    "new_df= pd.merge(sends_df,users_df,on=['riid'])\n",
    "new_df['tenure']= (new_df['send_dt']-new_df['aq_dt']).dt.days\n",
    "new_df['aq_year']= new_df['aq_dt'].dt.year\n",
    "new_df['aq_month']= new_df['aq_dt'].dt.month\n",
    "new_df['aq_day']= new_df['aq_dt'].dt.day\n",
    "new_df['sub_source']=new_df['sub_source'].fillna('Unknown')"
   ]
  },
  {
   "cell_type": "code",
   "execution_count": 159,
   "metadata": {
    "collapsed": false
   },
   "outputs": [
    {
     "data": {
      "text/html": [
       "<div>\n",
       "<table border=\"1\" class=\"dataframe\">\n",
       "  <thead>\n",
       "    <tr style=\"text-align: right;\">\n",
       "      <th></th>\n",
       "      <th>riid</th>\n",
       "      <th>launch_id</th>\n",
       "      <th>opened</th>\n",
       "      <th>send_dt</th>\n",
       "      <th>aq_dt</th>\n",
       "      <th>sub_source</th>\n",
       "      <th>tenure</th>\n",
       "      <th>aq_year</th>\n",
       "      <th>aq_month</th>\n",
       "      <th>aq_day</th>\n",
       "    </tr>\n",
       "  </thead>\n",
       "  <tbody>\n",
       "    <tr>\n",
       "      <th>0</th>\n",
       "      <td>605591962</td>\n",
       "      <td>784382</td>\n",
       "      <td>0</td>\n",
       "      <td>2017-07-14</td>\n",
       "      <td>2015-10-29</td>\n",
       "      <td>Unknown</td>\n",
       "      <td>624</td>\n",
       "      <td>2015</td>\n",
       "      <td>10</td>\n",
       "      <td>29</td>\n",
       "    </tr>\n",
       "    <tr>\n",
       "      <th>1</th>\n",
       "      <td>181990762</td>\n",
       "      <td>422482</td>\n",
       "      <td>0</td>\n",
       "      <td>2016-07-11</td>\n",
       "      <td>2014-12-08</td>\n",
       "      <td>Unknown</td>\n",
       "      <td>581</td>\n",
       "      <td>2014</td>\n",
       "      <td>12</td>\n",
       "      <td>8</td>\n",
       "    </tr>\n",
       "    <tr>\n",
       "      <th>2</th>\n",
       "      <td>88630922</td>\n",
       "      <td>468302</td>\n",
       "      <td>0</td>\n",
       "      <td>2016-09-07</td>\n",
       "      <td>2010-09-26</td>\n",
       "      <td>Retail B&amp;M</td>\n",
       "      <td>2173</td>\n",
       "      <td>2010</td>\n",
       "      <td>9</td>\n",
       "      <td>26</td>\n",
       "    </tr>\n",
       "    <tr>\n",
       "      <th>3</th>\n",
       "      <td>259205742</td>\n",
       "      <td>529502</td>\n",
       "      <td>0</td>\n",
       "      <td>2016-11-25</td>\n",
       "      <td>2015-04-14</td>\n",
       "      <td>Online Purchase</td>\n",
       "      <td>591</td>\n",
       "      <td>2015</td>\n",
       "      <td>4</td>\n",
       "      <td>14</td>\n",
       "    </tr>\n",
       "    <tr>\n",
       "      <th>4</th>\n",
       "      <td>172633782</td>\n",
       "      <td>558762</td>\n",
       "      <td>0</td>\n",
       "      <td>2017-01-17</td>\n",
       "      <td>2014-06-19</td>\n",
       "      <td>Retail B&amp;M</td>\n",
       "      <td>943</td>\n",
       "      <td>2014</td>\n",
       "      <td>6</td>\n",
       "      <td>19</td>\n",
       "    </tr>\n",
       "  </tbody>\n",
       "</table>\n",
       "</div>"
      ],
      "text/plain": [
       "        riid  launch_id  opened    send_dt      aq_dt       sub_source  \\\n",
       "0  605591962     784382       0 2017-07-14 2015-10-29          Unknown   \n",
       "1  181990762     422482       0 2016-07-11 2014-12-08          Unknown   \n",
       "2   88630922     468302       0 2016-09-07 2010-09-26       Retail B&M   \n",
       "3  259205742     529502       0 2016-11-25 2015-04-14  Online Purchase   \n",
       "4  172633782     558762       0 2017-01-17 2014-06-19       Retail B&M   \n",
       "\n",
       "   tenure  aq_year  aq_month  aq_day  \n",
       "0     624     2015        10      29  \n",
       "1     581     2014        12       8  \n",
       "2    2173     2010         9      26  \n",
       "3     591     2015         4      14  \n",
       "4     943     2014         6      19  "
      ]
     },
     "execution_count": 159,
     "metadata": {},
     "output_type": "execute_result"
    }
   ],
   "source": [
    "new_df.head()"
   ]
  },
  {
   "cell_type": "code",
   "execution_count": 160,
   "metadata": {
    "collapsed": false
   },
   "outputs": [],
   "source": [
    "bins= [0,250,500,750,1000,1250,1500,1750,2000,2250,2500,2750]\n",
    "group_names=['1','2','3','4','5','6','7','8','9','10','11']\n",
    "\n",
    "new_df['tenure_label']= pd.cut(new_df['tenure'],bins, labels=group_names)"
   ]
  },
  {
   "cell_type": "code",
   "execution_count": 161,
   "metadata": {
    "collapsed": false
   },
   "outputs": [
    {
     "data": {
      "text/html": [
       "<div>\n",
       "<table border=\"1\" class=\"dataframe\">\n",
       "  <thead>\n",
       "    <tr style=\"text-align: right;\">\n",
       "      <th></th>\n",
       "      <th>riid</th>\n",
       "      <th>launch_id</th>\n",
       "      <th>opened</th>\n",
       "      <th>send_dt</th>\n",
       "      <th>aq_dt</th>\n",
       "      <th>sub_source</th>\n",
       "      <th>tenure</th>\n",
       "      <th>aq_year</th>\n",
       "      <th>aq_month</th>\n",
       "      <th>aq_day</th>\n",
       "      <th>tenure_label</th>\n",
       "    </tr>\n",
       "  </thead>\n",
       "  <tbody>\n",
       "    <tr>\n",
       "      <th>0</th>\n",
       "      <td>605591962</td>\n",
       "      <td>784382</td>\n",
       "      <td>0</td>\n",
       "      <td>2017-07-14</td>\n",
       "      <td>2015-10-29</td>\n",
       "      <td>Unknown</td>\n",
       "      <td>624</td>\n",
       "      <td>2015</td>\n",
       "      <td>10</td>\n",
       "      <td>29</td>\n",
       "      <td>3</td>\n",
       "    </tr>\n",
       "    <tr>\n",
       "      <th>1</th>\n",
       "      <td>181990762</td>\n",
       "      <td>422482</td>\n",
       "      <td>0</td>\n",
       "      <td>2016-07-11</td>\n",
       "      <td>2014-12-08</td>\n",
       "      <td>Unknown</td>\n",
       "      <td>581</td>\n",
       "      <td>2014</td>\n",
       "      <td>12</td>\n",
       "      <td>8</td>\n",
       "      <td>3</td>\n",
       "    </tr>\n",
       "    <tr>\n",
       "      <th>2</th>\n",
       "      <td>88630922</td>\n",
       "      <td>468302</td>\n",
       "      <td>0</td>\n",
       "      <td>2016-09-07</td>\n",
       "      <td>2010-09-26</td>\n",
       "      <td>Retail B&amp;M</td>\n",
       "      <td>2173</td>\n",
       "      <td>2010</td>\n",
       "      <td>9</td>\n",
       "      <td>26</td>\n",
       "      <td>9</td>\n",
       "    </tr>\n",
       "    <tr>\n",
       "      <th>3</th>\n",
       "      <td>259205742</td>\n",
       "      <td>529502</td>\n",
       "      <td>0</td>\n",
       "      <td>2016-11-25</td>\n",
       "      <td>2015-04-14</td>\n",
       "      <td>Online Purchase</td>\n",
       "      <td>591</td>\n",
       "      <td>2015</td>\n",
       "      <td>4</td>\n",
       "      <td>14</td>\n",
       "      <td>3</td>\n",
       "    </tr>\n",
       "    <tr>\n",
       "      <th>4</th>\n",
       "      <td>172633782</td>\n",
       "      <td>558762</td>\n",
       "      <td>0</td>\n",
       "      <td>2017-01-17</td>\n",
       "      <td>2014-06-19</td>\n",
       "      <td>Retail B&amp;M</td>\n",
       "      <td>943</td>\n",
       "      <td>2014</td>\n",
       "      <td>6</td>\n",
       "      <td>19</td>\n",
       "      <td>4</td>\n",
       "    </tr>\n",
       "  </tbody>\n",
       "</table>\n",
       "</div>"
      ],
      "text/plain": [
       "        riid  launch_id  opened    send_dt      aq_dt       sub_source  \\\n",
       "0  605591962     784382       0 2017-07-14 2015-10-29          Unknown   \n",
       "1  181990762     422482       0 2016-07-11 2014-12-08          Unknown   \n",
       "2   88630922     468302       0 2016-09-07 2010-09-26       Retail B&M   \n",
       "3  259205742     529502       0 2016-11-25 2015-04-14  Online Purchase   \n",
       "4  172633782     558762       0 2017-01-17 2014-06-19       Retail B&M   \n",
       "\n",
       "   tenure  aq_year  aq_month  aq_day tenure_label  \n",
       "0     624     2015        10      29            3  \n",
       "1     581     2014        12       8            3  \n",
       "2    2173     2010         9      26            9  \n",
       "3     591     2015         4      14            3  \n",
       "4     943     2014         6      19            4  "
      ]
     },
     "execution_count": 161,
     "metadata": {},
     "output_type": "execute_result"
    }
   ],
   "source": [
    "new_df.head()"
   ]
  },
  {
   "cell_type": "markdown",
   "metadata": {},
   "source": [
    "## Assignment Questions"
   ]
  },
  {
   "cell_type": "code",
   "execution_count": 162,
   "metadata": {
    "collapsed": false
   },
   "outputs": [
    {
     "data": {
      "text/html": [
       "<div>\n",
       "<table border=\"1\" class=\"dataframe\">\n",
       "  <thead>\n",
       "    <tr style=\"text-align: right;\">\n",
       "      <th></th>\n",
       "      <th>riid</th>\n",
       "      <th>launch_id</th>\n",
       "      <th>opened</th>\n",
       "      <th>send_dt</th>\n",
       "    </tr>\n",
       "  </thead>\n",
       "  <tbody>\n",
       "    <tr>\n",
       "      <th>0</th>\n",
       "      <td>605591962</td>\n",
       "      <td>784382</td>\n",
       "      <td>0</td>\n",
       "      <td>2017-07-14</td>\n",
       "    </tr>\n",
       "    <tr>\n",
       "      <th>1</th>\n",
       "      <td>181990762</td>\n",
       "      <td>422482</td>\n",
       "      <td>0</td>\n",
       "      <td>2016-07-11</td>\n",
       "    </tr>\n",
       "    <tr>\n",
       "      <th>2</th>\n",
       "      <td>88630922</td>\n",
       "      <td>468302</td>\n",
       "      <td>0</td>\n",
       "      <td>2016-09-07</td>\n",
       "    </tr>\n",
       "    <tr>\n",
       "      <th>3</th>\n",
       "      <td>259205742</td>\n",
       "      <td>529502</td>\n",
       "      <td>0</td>\n",
       "      <td>2016-11-25</td>\n",
       "    </tr>\n",
       "    <tr>\n",
       "      <th>4</th>\n",
       "      <td>172633782</td>\n",
       "      <td>558762</td>\n",
       "      <td>0</td>\n",
       "      <td>2017-01-17</td>\n",
       "    </tr>\n",
       "  </tbody>\n",
       "</table>\n",
       "</div>"
      ],
      "text/plain": [
       "        riid  launch_id  opened    send_dt\n",
       "0  605591962     784382       0 2017-07-14\n",
       "1  181990762     422482       0 2016-07-11\n",
       "2   88630922     468302       0 2016-09-07\n",
       "3  259205742     529502       0 2016-11-25\n",
       "4  172633782     558762       0 2017-01-17"
      ]
     },
     "execution_count": 162,
     "metadata": {},
     "output_type": "execute_result"
    }
   ],
   "source": [
    "sends_df.head()"
   ]
  },
  {
   "cell_type": "code",
   "execution_count": 163,
   "metadata": {
    "collapsed": false
   },
   "outputs": [
    {
     "name": "stdout",
     "output_type": "stream",
     "text": [
      " Aggregate Open Rate is :  15.295\n"
     ]
    }
   ],
   "source": [
    "# Q1. What is the aggregate open rate for the sample provided in the \"Sends\"Table?\n",
    "\n",
    "Total_Opens= sends_df['opened'].sum()\n",
    "Total_Sends = len(sends_df['opened'])\n",
    "\n",
    "Aggregate_Open_Rate = Total_Opens*100/Total_Sends\n",
    "\n",
    "print (\" Aggregate Open Rate is : \", Aggregate_Open_Rate)"
   ]
  },
  {
   "cell_type": "code",
   "execution_count": 164,
   "metadata": {
    "collapsed": false
   },
   "outputs": [
    {
     "data": {
      "text/html": [
       "<div>\n",
       "<table border=\"1\" class=\"dataframe\">\n",
       "  <thead>\n",
       "    <tr style=\"text-align: right;\">\n",
       "      <th></th>\n",
       "      <th>riid</th>\n",
       "      <th>launch_id</th>\n",
       "      <th>opened</th>\n",
       "      <th>send_dt</th>\n",
       "      <th>aq_dt</th>\n",
       "      <th>sub_source</th>\n",
       "      <th>tenure</th>\n",
       "      <th>aq_year</th>\n",
       "      <th>aq_month</th>\n",
       "      <th>aq_day</th>\n",
       "      <th>tenure_label</th>\n",
       "    </tr>\n",
       "  </thead>\n",
       "  <tbody>\n",
       "    <tr>\n",
       "      <th>0</th>\n",
       "      <td>605591962</td>\n",
       "      <td>784382</td>\n",
       "      <td>0</td>\n",
       "      <td>2017-07-14</td>\n",
       "      <td>2015-10-29</td>\n",
       "      <td>Unknown</td>\n",
       "      <td>624</td>\n",
       "      <td>2015</td>\n",
       "      <td>10</td>\n",
       "      <td>29</td>\n",
       "      <td>3</td>\n",
       "    </tr>\n",
       "    <tr>\n",
       "      <th>1</th>\n",
       "      <td>181990762</td>\n",
       "      <td>422482</td>\n",
       "      <td>0</td>\n",
       "      <td>2016-07-11</td>\n",
       "      <td>2014-12-08</td>\n",
       "      <td>Unknown</td>\n",
       "      <td>581</td>\n",
       "      <td>2014</td>\n",
       "      <td>12</td>\n",
       "      <td>8</td>\n",
       "      <td>3</td>\n",
       "    </tr>\n",
       "    <tr>\n",
       "      <th>2</th>\n",
       "      <td>88630922</td>\n",
       "      <td>468302</td>\n",
       "      <td>0</td>\n",
       "      <td>2016-09-07</td>\n",
       "      <td>2010-09-26</td>\n",
       "      <td>Retail B&amp;M</td>\n",
       "      <td>2173</td>\n",
       "      <td>2010</td>\n",
       "      <td>9</td>\n",
       "      <td>26</td>\n",
       "      <td>9</td>\n",
       "    </tr>\n",
       "    <tr>\n",
       "      <th>3</th>\n",
       "      <td>259205742</td>\n",
       "      <td>529502</td>\n",
       "      <td>0</td>\n",
       "      <td>2016-11-25</td>\n",
       "      <td>2015-04-14</td>\n",
       "      <td>Online Purchase</td>\n",
       "      <td>591</td>\n",
       "      <td>2015</td>\n",
       "      <td>4</td>\n",
       "      <td>14</td>\n",
       "      <td>3</td>\n",
       "    </tr>\n",
       "    <tr>\n",
       "      <th>4</th>\n",
       "      <td>172633782</td>\n",
       "      <td>558762</td>\n",
       "      <td>0</td>\n",
       "      <td>2017-01-17</td>\n",
       "      <td>2014-06-19</td>\n",
       "      <td>Retail B&amp;M</td>\n",
       "      <td>943</td>\n",
       "      <td>2014</td>\n",
       "      <td>6</td>\n",
       "      <td>19</td>\n",
       "      <td>4</td>\n",
       "    </tr>\n",
       "  </tbody>\n",
       "</table>\n",
       "</div>"
      ],
      "text/plain": [
       "        riid  launch_id  opened    send_dt      aq_dt       sub_source  \\\n",
       "0  605591962     784382       0 2017-07-14 2015-10-29          Unknown   \n",
       "1  181990762     422482       0 2016-07-11 2014-12-08          Unknown   \n",
       "2   88630922     468302       0 2016-09-07 2010-09-26       Retail B&M   \n",
       "3  259205742     529502       0 2016-11-25 2015-04-14  Online Purchase   \n",
       "4  172633782     558762       0 2017-01-17 2014-06-19       Retail B&M   \n",
       "\n",
       "   tenure  aq_year  aq_month  aq_day tenure_label  \n",
       "0     624     2015        10      29            3  \n",
       "1     581     2014        12       8            3  \n",
       "2    2173     2010         9      26            9  \n",
       "3     591     2015         4      14            3  \n",
       "4     943     2014         6      19            4  "
      ]
     },
     "execution_count": 164,
     "metadata": {},
     "output_type": "execute_result"
    }
   ],
   "source": [
    "new_df.head()"
   ]
  },
  {
   "cell_type": "code",
   "execution_count": 165,
   "metadata": {
    "collapsed": false
   },
   "outputs": [
    {
     "name": "stdout",
     "output_type": "stream",
     "text": [
      " Aggregate Open Rate is:\n",
      " launch_id\n",
      "422482    14.095941\n",
      "435222    15.384615\n",
      "446722    12.981132\n",
      "457862    15.228758\n",
      "468302     9.700094\n",
      "478342    20.065789\n",
      "478382     8.213820\n",
      "478422     7.744875\n",
      "486182    23.636364\n",
      "486442     8.547009\n",
      "486462     5.629139\n",
      "503362    22.977346\n",
      "503382    10.332951\n",
      "509322    16.970999\n",
      "509362    25.882353\n",
      "509382    17.910448\n",
      "525622    27.777778\n",
      "525642    11.059294\n",
      "529482     9.920635\n",
      "529502    20.305344\n",
      "537282    23.845007\n",
      "537302     9.450679\n",
      "549762    25.617284\n",
      "549782    17.604618\n",
      "558762    10.520231\n",
      "558782    21.105528\n",
      "570642    18.750000\n",
      "578522    20.168856\n",
      "589662    12.588652\n",
      "589682    17.733090\n",
      "601102    24.251497\n",
      "601122     8.701473\n",
      "623862    25.611746\n",
      "642742    21.734234\n",
      "660762    21.272555\n",
      "684802    17.837838\n",
      "708722    17.977528\n",
      "708742    19.047619\n",
      "737882    14.930114\n",
      "738662    14.942529\n",
      "752462    18.720602\n",
      "784382    13.685524\n",
      "Name: opened, dtype: float64\n"
     ]
    }
   ],
   "source": [
    "# Q2.1.A Calculate the open rate at the granularity of launch_id\n",
    "Total_Opens= new_df.groupby(['launch_id'])['opened'].sum()\n",
    "Total_Sends = new_df.groupby(['launch_id'])['opened'].count()\n",
    "\n",
    "Aggregate_Open_Rate = Total_Opens*100/Total_Sends\n",
    "\n",
    "print (\" Aggregate Open Rate is:\\n\", Aggregate_Open_Rate)\n",
    "Aggregate_Open_Rate.to_csv(\"aggOpenRate_launchId.csv\")"
   ]
  },
  {
   "cell_type": "code",
   "execution_count": 166,
   "metadata": {
    "collapsed": false
   },
   "outputs": [
    {
     "name": "stdout",
     "output_type": "stream",
     "text": [
      " No. of Customers per launch id is:\n",
      " launch_id\n",
      "422482    1355\n",
      "435222    1430\n",
      "446722    1325\n",
      "457862    1530\n",
      "468302    2134\n",
      "478342     608\n",
      "478382     767\n",
      "478422     439\n",
      "486182     605\n",
      "486442     936\n",
      "486462     302\n",
      "503362     618\n",
      "503382     871\n",
      "509322     931\n",
      "509362      85\n",
      "509382      67\n",
      "525622     630\n",
      "525642    1501\n",
      "529482    1512\n",
      "529502     655\n",
      "537282     671\n",
      "537302    1693\n",
      "549762     648\n",
      "549782     693\n",
      "558762     865\n",
      "558782     597\n",
      "570642     832\n",
      "578522    1066\n",
      "589662     564\n",
      "589682     547\n",
      "601102     668\n",
      "601122    2241\n",
      "623862     613\n",
      "642742     888\n",
      "660762    1053\n",
      "684802    1480\n",
      "708722     534\n",
      "708742     483\n",
      "737882    1574\n",
      "738662     522\n",
      "752462    1063\n",
      "784382    2404\n",
      "Name: riid, dtype: int64\n"
     ]
    }
   ],
   "source": [
    "# Q2.1.B Calculate the count of customers at the granularity of launch_id\n",
    "\n",
    "Count_of_Customers = new_df.groupby(['launch_id'])['riid'].count()\n",
    "print (\" No. of Customers per launch id is:\\n\", Count_of_Customers)\n",
    "Count_of_Customers.to_csv(\"cnt_cust_launchId.csv\")"
   ]
  },
  {
   "cell_type": "code",
   "execution_count": 167,
   "metadata": {
    "collapsed": false
   },
   "outputs": [
    {
     "name": "stdout",
     "output_type": "stream",
     "text": [
      " Aggregate Open Rate is:\n",
      " sub_source\n",
      "Online Purchase       19.450535\n",
      "Online Sale Access    18.051576\n",
      "Online Subscribe      14.920205\n",
      "Retail B&M            15.071433\n",
      "Social                11.877395\n",
      "Sports/Brand          23.255814\n",
      "Unknown               12.533896\n",
      "Name: opened, dtype: float64\n"
     ]
    }
   ],
   "source": [
    "# Q2.2.A Calculate the open rate at the granularity of User Sub Source\n",
    "Total_Opens= new_df.groupby(['sub_source'])['opened'].sum()\n",
    "Total_Sends = new_df.groupby(['sub_source'])['opened'].count()\n",
    "\n",
    "Aggregate_Open_Rate = Total_Opens*100/Total_Sends\n",
    "\n",
    "print (\" Aggregate Open Rate is:\\n\", Aggregate_Open_Rate)\n",
    "Aggregate_Open_Rate.to_csv(\"aggOpenRate_sub_source.csv\")"
   ]
  },
  {
   "cell_type": "code",
   "execution_count": 168,
   "metadata": {
    "collapsed": false
   },
   "outputs": [
    {
     "name": "stdout",
     "output_type": "stream",
     "text": [
      " No. of Customers per launch id is:\n",
      " sub_source\n",
      "Online Purchase        7753\n",
      "Online Sale Access      349\n",
      "Online Subscribe       6642\n",
      "Retail B&M            14909\n",
      "Social                  261\n",
      "Sports/Brand            129\n",
      "Unknown                9957\n",
      "Name: riid, dtype: int64\n"
     ]
    }
   ],
   "source": [
    "# Q2.2.B Calculate the count of customers at the granularity of User sub source\n",
    "\n",
    "Count_of_Customers = new_df.groupby(['sub_source'])['riid'].count()\n",
    "print (\" No. of Customers per launch id is:\\n\", Count_of_Customers)\n",
    "Count_of_Customers.to_csv(\"cnt_cust_sub_source.csv\")"
   ]
  },
  {
   "cell_type": "code",
   "execution_count": 169,
   "metadata": {
    "collapsed": false
   },
   "outputs": [
    {
     "name": "stdout",
     "output_type": "stream",
     "text": [
      " Aggregate Open Rate is:\n",
      " aq_month\n",
      "1     16.984479\n",
      "2     15.619048\n",
      "3     16.522574\n",
      "4     16.211485\n",
      "5     15.369328\n",
      "6     10.388464\n",
      "7     16.797900\n",
      "8     17.271835\n",
      "9     16.673614\n",
      "10    16.479783\n",
      "11    16.326531\n",
      "12    15.053415\n",
      "Name: opened, dtype: float64\n"
     ]
    }
   ],
   "source": [
    "# Q2.3.A Calculate the open rate at the granularity of User Month of Acquisition\n",
    "Total_Opens= new_df.groupby(['aq_month'])['opened'].sum()\n",
    "Total_Sends = new_df.groupby(['aq_month'])['opened'].count()\n",
    "\n",
    "Aggregate_Open_Rate = Total_Opens*100/Total_Sends\n",
    "\n",
    "print (\" Aggregate Open Rate is:\\n\", Aggregate_Open_Rate)\n",
    "Aggregate_Open_Rate.to_csv(\"aggOpenRate_aq_month.csv\")"
   ]
  },
  {
   "cell_type": "code",
   "execution_count": 170,
   "metadata": {
    "collapsed": false
   },
   "outputs": [
    {
     "name": "stdout",
     "output_type": "stream",
     "text": [
      " No. of Customers per launch id is:\n",
      " aq_month\n",
      "1     2255\n",
      "2     2100\n",
      "3     4164\n",
      "4     2856\n",
      "5     3019\n",
      "6     6796\n",
      "7     2667\n",
      "8     3057\n",
      "9     2399\n",
      "10    2943\n",
      "11    4655\n",
      "12    3089\n",
      "Name: riid, dtype: int64\n"
     ]
    }
   ],
   "source": [
    "# Q2.3.B Calculate the count of customers at the granularity of User Month of acquisition\n",
    "\n",
    "Count_of_Customers = new_df.groupby(['aq_month'])['riid'].count()\n",
    "print (\" No. of Customers per launch id is:\\n\", Count_of_Customers)\n",
    "Count_of_Customers.to_csv(\"cnt_cust_aq_month.csv\")"
   ]
  },
  {
   "cell_type": "code",
   "execution_count": 178,
   "metadata": {
    "collapsed": false
   },
   "outputs": [
    {
     "data": {
      "text/html": [
       "<div>\n",
       "<table border=\"1\" class=\"dataframe\">\n",
       "  <thead>\n",
       "    <tr style=\"text-align: right;\">\n",
       "      <th></th>\n",
       "      <th>opened</th>\n",
       "      <th>tenure</th>\n",
       "    </tr>\n",
       "  </thead>\n",
       "  <tbody>\n",
       "    <tr>\n",
       "      <th>opened</th>\n",
       "      <td>1.000000</td>\n",
       "      <td>0.009078</td>\n",
       "    </tr>\n",
       "    <tr>\n",
       "      <th>tenure</th>\n",
       "      <td>0.009078</td>\n",
       "      <td>1.000000</td>\n",
       "    </tr>\n",
       "  </tbody>\n",
       "</table>\n",
       "</div>"
      ],
      "text/plain": [
       "          opened    tenure\n",
       "opened  1.000000  0.009078\n",
       "tenure  0.009078  1.000000"
      ]
     },
     "execution_count": 178,
     "metadata": {},
     "output_type": "execute_result"
    }
   ],
   "source": [
    "# Q3. Relationship between a customer's propensity to open an email v/s their Tenure\n",
    "\n",
    "# Checking if there is any correlation between opened and tenure\n",
    "new_df[[\"opened\",\"tenure\"]].corr()"
   ]
  },
  {
   "cell_type": "code",
   "execution_count": 191,
   "metadata": {
    "collapsed": false
   },
   "outputs": [
    {
     "data": {
      "text/plain": [
       "<matplotlib.axes._subplots.AxesSubplot at 0x1177e9588>"
      ]
     },
     "execution_count": 191,
     "metadata": {},
     "output_type": "execute_result"
    },
    {
     "data": {
      "image/png": "[encoded data removed]",
      "text/plain": [
       "<matplotlib.figure.Figure at 0x118d12780>"
      ]
     },
     "metadata": {},
     "output_type": "display_data"
    }
   ],
   "source": [
    "new_df.plot(kind=\"hexbin\", x=\"tenure\", y=\"opened\", gridsize=20, bins='log') "
   ]
  },
  {
   "cell_type": "code",
   "execution_count": 193,
   "metadata": {
    "collapsed": false
   },
   "outputs": [],
   "source": [
    "#new_df[new_df[\"opened\"]==0].plot(kind=\"hexbin\", x=\"tenure\", y=\"opened\", gridsize=20) # reduce_C_function=fn)"
   ]
  },
  {
   "cell_type": "code",
   "execution_count": 192,
   "metadata": {
    "collapsed": false
   },
   "outputs": [],
   "source": [
    "#new_df[new_df[\"opened\"]==0].plot(kind=\"hexbin\", x=\"tenure\", y=\"opened\", gridsize=20, bins='log') # reduce_C_function=fn)"
   ]
  },
  {
   "cell_type": "code",
   "execution_count": 172,
   "metadata": {
    "collapsed": false
   },
   "outputs": [
    {
     "name": "stdout",
     "output_type": "stream",
     "text": [
      " Customer Propensity to open an email is:\n",
      " tenure_label\n",
      "1     18.665691\n",
      "2     12.930429\n",
      "3     11.999499\n",
      "4     13.577422\n",
      "5     16.057954\n",
      "6     17.469880\n",
      "7     18.443627\n",
      "8     17.927632\n",
      "9     19.683258\n",
      "10    16.860465\n",
      "11    20.224719\n",
      "Name: opened, dtype: float64\n"
     ]
    }
   ],
   "source": [
    "\n",
    "\n",
    "tenure_open= new_df[['tenure','opened']]\n",
    "tenure_open.to_csv(\"tenure_open.csv\")\n",
    "\n",
    "Total_Opens= new_df.groupby(['tenure_label'])['opened'].sum()\n",
    "Total_Sends = new_df.groupby(['tenure_label'])['opened'].count()\n",
    "\n",
    "OpenRate_per250days = Total_Opens*100/Total_Sends\n",
    "\n",
    "# Each index is corresponding to 250 days..Increase in index corresponding distant time in the past\n",
    "print (\" Customer Propensity to open an email is:\\n\", OpenRate_per250days)"
   ]
  },
  {
   "cell_type": "code",
   "execution_count": 173,
   "metadata": {
    "collapsed": false
   },
   "outputs": [
    {
     "data": {
      "image/png": "[encoded data removed]",
      "text/plain": [
       "<matplotlib.figure.Figure at 0x117cb34e0>"
      ]
     },
     "metadata": {},
     "output_type": "display_data"
    }
   ],
   "source": [
    "plt.plot(group_names, OpenRate_per250days)\n",
    "plt.xlabel('Tenure of the User (*250days)')\n",
    "plt.ylabel('Customer Propensity to open an email')\n",
    "plt.savefig('custPropensity_Tenure.png')"
   ]
  },
  {
   "cell_type": "code",
   "execution_count": null,
   "metadata": {
    "collapsed": true
   },
   "outputs": [],
   "source": []
  }
 ],
 "metadata": {
  "kernelspec": {
   "display_name": "Python 3",
   "language": "python",
   "name": "python3"
  },
  "language_info": {
   "codemirror_mode": {
    "name": "ipython",
    "version": 3
   },
   "file_extension": ".py",
   "mimetype": "text/x-python",
   "name": "python",
   "nbconvert_exporter": "python",
   "pygments_lexer": "ipython3",
   "version": "3.6.0"
  }
 },
 "nbformat": 4,
 "nbformat_minor": 2
}
