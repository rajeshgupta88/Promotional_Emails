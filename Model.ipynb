{
 "cells": [
  {
   "cell_type": "code",
   "execution_count": 322,
   "metadata": {
    "collapsed": false
   },
   "outputs": [],
   "source": [
    "import pandas as pd\n",
    "import numpy as np\n",
    "import datetime as dt\n",
    "import matplotlib.pyplot as plt\n",
    "%matplotlib inline\n",
    "plt.style.use('ggplot')"
   ]
  },
  {
   "cell_type": "code",
   "execution_count": 323,
   "metadata": {
    "collapsed": true
   },
   "outputs": [],
   "source": [
    "# Load the data\n",
    "sends_df= pd.read_csv(\"sends.csv\", date_parser=True)\n",
    "users_df = pd.read_csv(\"User info.csv\")\n",
    "events_df= pd.read_csv(\"events.txt\", sep='\\t')"
   ]
  },
  {
   "cell_type": "code",
   "execution_count": 324,
   "metadata": {
    "collapsed": false
   },
   "outputs": [],
   "source": [
    "# Change the datetime format and merge the Sends and Users table with calculated tenure\n",
    "sends_df['send_dt'] = pd.to_datetime(sends_df['send_dt'])\n",
    "users_df['aq_dt'] = pd.to_datetime(users_df['aq_dt'])\n",
    "events_df['event_captured_dt']= pd.to_datetime(events_df['event_captured_dt'])\n",
    "\n",
    "merge1_df= pd.merge(sends_df,users_df,on=['riid'])\n",
    "merge1_df['tenure']= (merge1_df['send_dt']-merge1_df['aq_dt']).dt.days"
   ]
  },
  {
   "cell_type": "code",
   "execution_count": 327,
   "metadata": {
    "collapsed": false
   },
   "outputs": [],
   "source": [
    "#merge1_df.head()"
   ]
  },
  {
   "cell_type": "code",
   "execution_count": 328,
   "metadata": {
    "collapsed": false
   },
   "outputs": [
    {
     "data": {
      "text/html": [
       "<div>\n",
       "<table border=\"1\" class=\"dataframe\">\n",
       "  <thead>\n",
       "    <tr style=\"text-align: right;\">\n",
       "      <th>event</th>\n",
       "      <th>user_id</th>\n",
       "      <th>event_captured_dt</th>\n",
       "      <th>Click</th>\n",
       "      <th>Online Purch</th>\n",
       "      <th>Open</th>\n",
       "      <th>Sent</th>\n",
       "    </tr>\n",
       "  </thead>\n",
       "  <tbody>\n",
       "    <tr>\n",
       "      <th>0</th>\n",
       "      <td>82692742</td>\n",
       "      <td>2015-07-02</td>\n",
       "      <td>0.0</td>\n",
       "      <td>0.0</td>\n",
       "      <td>0.0</td>\n",
       "      <td>1.0</td>\n",
       "    </tr>\n",
       "    <tr>\n",
       "      <th>1</th>\n",
       "      <td>82692742</td>\n",
       "      <td>2015-07-03</td>\n",
       "      <td>0.0</td>\n",
       "      <td>0.0</td>\n",
       "      <td>0.0</td>\n",
       "      <td>1.0</td>\n",
       "    </tr>\n",
       "    <tr>\n",
       "      <th>2</th>\n",
       "      <td>82692742</td>\n",
       "      <td>2015-07-04</td>\n",
       "      <td>0.0</td>\n",
       "      <td>0.0</td>\n",
       "      <td>0.0</td>\n",
       "      <td>1.0</td>\n",
       "    </tr>\n",
       "    <tr>\n",
       "      <th>3</th>\n",
       "      <td>82692742</td>\n",
       "      <td>2015-07-07</td>\n",
       "      <td>0.0</td>\n",
       "      <td>0.0</td>\n",
       "      <td>0.0</td>\n",
       "      <td>1.0</td>\n",
       "    </tr>\n",
       "    <tr>\n",
       "      <th>4</th>\n",
       "      <td>82692742</td>\n",
       "      <td>2015-07-08</td>\n",
       "      <td>0.0</td>\n",
       "      <td>0.0</td>\n",
       "      <td>0.0</td>\n",
       "      <td>1.0</td>\n",
       "    </tr>\n",
       "  </tbody>\n",
       "</table>\n",
       "</div>"
      ],
      "text/plain": [
       "event   user_id event_captured_dt  Click  Online Purch  Open  Sent\n",
       "0      82692742        2015-07-02    0.0           0.0   0.0   1.0\n",
       "1      82692742        2015-07-03    0.0           0.0   0.0   1.0\n",
       "2      82692742        2015-07-04    0.0           0.0   0.0   1.0\n",
       "3      82692742        2015-07-07    0.0           0.0   0.0   1.0\n",
       "4      82692742        2015-07-08    0.0           0.0   0.0   1.0"
      ]
     },
     "execution_count": 328,
     "metadata": {},
     "output_type": "execute_result"
    }
   ],
   "source": [
    "# Unstack the Events table\n",
    "unstack_df = events_df.reset_index().groupby(['user_id','event_captured_dt', 'event'])['cnt'].aggregate('first').unstack().fillna(0)\n",
    "unstack_df.reset_index(inplace=True) \n",
    "unstack_df.head()"
   ]
  },
  {
   "cell_type": "code",
   "execution_count": 329,
   "metadata": {
    "collapsed": false
   },
   "outputs": [],
   "source": [
    "# Merge the Events and Sends table and calculate the user activity days \n",
    "interim_df= pd.merge(sends_df,unstack_df,how='right', left_on=['riid'], right_on=['user_id'])\n",
    "\n",
    "interim_df['usr_act_dt']=(interim_df['send_dt']-interim_df['event_captured_dt']).dt.days"
   ]
  },
  {
   "cell_type": "code",
   "execution_count": 330,
   "metadata": {
    "collapsed": false
   },
   "outputs": [
    {
     "data": {
      "text/html": [
       "<div>\n",
       "<table border=\"1\" class=\"dataframe\">\n",
       "  <thead>\n",
       "    <tr style=\"text-align: right;\">\n",
       "      <th></th>\n",
       "      <th>riid</th>\n",
       "      <th>launch_id</th>\n",
       "      <th>opened</th>\n",
       "      <th>send_dt</th>\n",
       "      <th>user_id</th>\n",
       "      <th>event_captured_dt</th>\n",
       "      <th>Click</th>\n",
       "      <th>Online Purch</th>\n",
       "      <th>Open</th>\n",
       "      <th>Sent</th>\n",
       "      <th>usr_act_dt</th>\n",
       "    </tr>\n",
       "  </thead>\n",
       "  <tbody>\n",
       "    <tr>\n",
       "      <th>0</th>\n",
       "      <td>605591962</td>\n",
       "      <td>784382</td>\n",
       "      <td>0</td>\n",
       "      <td>2017-07-14</td>\n",
       "      <td>605591962</td>\n",
       "      <td>2015-12-02</td>\n",
       "      <td>0.0</td>\n",
       "      <td>0.0</td>\n",
       "      <td>0.0</td>\n",
       "      <td>1.0</td>\n",
       "      <td>590</td>\n",
       "    </tr>\n",
       "    <tr>\n",
       "      <th>1</th>\n",
       "      <td>605591962</td>\n",
       "      <td>784382</td>\n",
       "      <td>0</td>\n",
       "      <td>2017-07-14</td>\n",
       "      <td>605591962</td>\n",
       "      <td>2015-12-05</td>\n",
       "      <td>0.0</td>\n",
       "      <td>0.0</td>\n",
       "      <td>0.0</td>\n",
       "      <td>1.0</td>\n",
       "      <td>587</td>\n",
       "    </tr>\n",
       "    <tr>\n",
       "      <th>2</th>\n",
       "      <td>605591962</td>\n",
       "      <td>784382</td>\n",
       "      <td>0</td>\n",
       "      <td>2017-07-14</td>\n",
       "      <td>605591962</td>\n",
       "      <td>2016-03-01</td>\n",
       "      <td>0.0</td>\n",
       "      <td>0.0</td>\n",
       "      <td>0.0</td>\n",
       "      <td>1.0</td>\n",
       "      <td>500</td>\n",
       "    </tr>\n",
       "    <tr>\n",
       "      <th>3</th>\n",
       "      <td>605591962</td>\n",
       "      <td>784382</td>\n",
       "      <td>0</td>\n",
       "      <td>2017-07-14</td>\n",
       "      <td>605591962</td>\n",
       "      <td>2016-03-03</td>\n",
       "      <td>0.0</td>\n",
       "      <td>0.0</td>\n",
       "      <td>0.0</td>\n",
       "      <td>1.0</td>\n",
       "      <td>498</td>\n",
       "    </tr>\n",
       "    <tr>\n",
       "      <th>4</th>\n",
       "      <td>605591962</td>\n",
       "      <td>784382</td>\n",
       "      <td>0</td>\n",
       "      <td>2017-07-14</td>\n",
       "      <td>605591962</td>\n",
       "      <td>2016-03-09</td>\n",
       "      <td>0.0</td>\n",
       "      <td>0.0</td>\n",
       "      <td>0.0</td>\n",
       "      <td>1.0</td>\n",
       "      <td>492</td>\n",
       "    </tr>\n",
       "  </tbody>\n",
       "</table>\n",
       "</div>"
      ],
      "text/plain": [
       "        riid  launch_id  opened    send_dt    user_id event_captured_dt  \\\n",
       "0  605591962     784382       0 2017-07-14  605591962        2015-12-02   \n",
       "1  605591962     784382       0 2017-07-14  605591962        2015-12-05   \n",
       "2  605591962     784382       0 2017-07-14  605591962        2016-03-01   \n",
       "3  605591962     784382       0 2017-07-14  605591962        2016-03-03   \n",
       "4  605591962     784382       0 2017-07-14  605591962        2016-03-09   \n",
       "\n",
       "   Click  Online Purch  Open  Sent  usr_act_dt  \n",
       "0    0.0           0.0   0.0   1.0         590  \n",
       "1    0.0           0.0   0.0   1.0         587  \n",
       "2    0.0           0.0   0.0   1.0         500  \n",
       "3    0.0           0.0   0.0   1.0         498  \n",
       "4    0.0           0.0   0.0   1.0         492  "
      ]
     },
     "execution_count": 330,
     "metadata": {},
     "output_type": "execute_result"
    }
   ],
   "source": [
    "interim_df.head()"
   ]
  },
  {
   "cell_type": "code",
   "execution_count": 331,
   "metadata": {
    "collapsed": false
   },
   "outputs": [
    {
     "data": {
      "text/html": [
       "<div>\n",
       "<table border=\"1\" class=\"dataframe\">\n",
       "  <thead>\n",
       "    <tr style=\"text-align: right;\">\n",
       "      <th></th>\n",
       "      <th>riid</th>\n",
       "      <th>launch_id</th>\n",
       "      <th>send_dt</th>\n",
       "      <th>Click</th>\n",
       "      <th>Open</th>\n",
       "      <th>Sent</th>\n",
       "      <th>Online Purch</th>\n",
       "    </tr>\n",
       "  </thead>\n",
       "  <tbody>\n",
       "    <tr>\n",
       "      <th>231</th>\n",
       "      <td>181990762</td>\n",
       "      <td>422482</td>\n",
       "      <td>2016-07-11</td>\n",
       "      <td>0.0</td>\n",
       "      <td>0.0</td>\n",
       "      <td>1.0</td>\n",
       "      <td>0.0</td>\n",
       "    </tr>\n",
       "    <tr>\n",
       "      <th>232</th>\n",
       "      <td>181990762</td>\n",
       "      <td>422482</td>\n",
       "      <td>2016-07-11</td>\n",
       "      <td>0.0</td>\n",
       "      <td>0.0</td>\n",
       "      <td>1.0</td>\n",
       "      <td>0.0</td>\n",
       "    </tr>\n",
       "    <tr>\n",
       "      <th>233</th>\n",
       "      <td>181990762</td>\n",
       "      <td>422482</td>\n",
       "      <td>2016-07-11</td>\n",
       "      <td>0.0</td>\n",
       "      <td>0.0</td>\n",
       "      <td>1.0</td>\n",
       "      <td>0.0</td>\n",
       "    </tr>\n",
       "    <tr>\n",
       "      <th>234</th>\n",
       "      <td>181990762</td>\n",
       "      <td>422482</td>\n",
       "      <td>2016-07-11</td>\n",
       "      <td>0.0</td>\n",
       "      <td>0.0</td>\n",
       "      <td>1.0</td>\n",
       "      <td>0.0</td>\n",
       "    </tr>\n",
       "    <tr>\n",
       "      <th>235</th>\n",
       "      <td>181990762</td>\n",
       "      <td>422482</td>\n",
       "      <td>2016-07-11</td>\n",
       "      <td>0.0</td>\n",
       "      <td>0.0</td>\n",
       "      <td>1.0</td>\n",
       "      <td>0.0</td>\n",
       "    </tr>\n",
       "  </tbody>\n",
       "</table>\n",
       "</div>"
      ],
      "text/plain": [
       "          riid  launch_id    send_dt  Click  Open  Sent  Online Purch\n",
       "231  181990762     422482 2016-07-11    0.0   0.0   1.0           0.0\n",
       "232  181990762     422482 2016-07-11    0.0   0.0   1.0           0.0\n",
       "233  181990762     422482 2016-07-11    0.0   0.0   1.0           0.0\n",
       "234  181990762     422482 2016-07-11    0.0   0.0   1.0           0.0\n",
       "235  181990762     422482 2016-07-11    0.0   0.0   1.0           0.0"
      ]
     },
     "execution_count": 331,
     "metadata": {},
     "output_type": "execute_result"
    }
   ],
   "source": [
    "# Captured the user events in the last one week only - May help to understand if the user will open new email or not?\n",
    "interim_df= interim_df[(interim_df['usr_act_dt']>0) & (interim_df['usr_act_dt']<8)][['riid','launch_id','send_dt','Click','Open','Sent','Online Purch']]\n",
    "interim_df.head()"
   ]
  },
  {
   "cell_type": "code",
   "execution_count": 332,
   "metadata": {
    "collapsed": false
   },
   "outputs": [
    {
     "data": {
      "text/html": [
       "<div>\n",
       "<table border=\"1\" class=\"dataframe\">\n",
       "  <thead>\n",
       "    <tr style=\"text-align: right;\">\n",
       "      <th></th>\n",
       "      <th>riid</th>\n",
       "      <th>launch_id</th>\n",
       "      <th>send_dt</th>\n",
       "      <th>Click</th>\n",
       "      <th>Open</th>\n",
       "      <th>Sent</th>\n",
       "      <th>Online Purch</th>\n",
       "    </tr>\n",
       "  </thead>\n",
       "  <tbody>\n",
       "    <tr>\n",
       "      <th>0</th>\n",
       "      <td>82697102</td>\n",
       "      <td>784382</td>\n",
       "      <td>2017-07-14</td>\n",
       "      <td>0.0</td>\n",
       "      <td>0.0</td>\n",
       "      <td>4.0</td>\n",
       "      <td>0.0</td>\n",
       "    </tr>\n",
       "    <tr>\n",
       "      <th>1</th>\n",
       "      <td>82701822</td>\n",
       "      <td>468302</td>\n",
       "      <td>2016-09-07</td>\n",
       "      <td>0.0</td>\n",
       "      <td>0.0</td>\n",
       "      <td>1.0</td>\n",
       "      <td>0.0</td>\n",
       "    </tr>\n",
       "    <tr>\n",
       "      <th>2</th>\n",
       "      <td>82721162</td>\n",
       "      <td>529482</td>\n",
       "      <td>2016-11-25</td>\n",
       "      <td>0.0</td>\n",
       "      <td>1.0</td>\n",
       "      <td>1.0</td>\n",
       "      <td>0.0</td>\n",
       "    </tr>\n",
       "    <tr>\n",
       "      <th>3</th>\n",
       "      <td>82723722</td>\n",
       "      <td>503362</td>\n",
       "      <td>2016-10-24</td>\n",
       "      <td>0.0</td>\n",
       "      <td>0.0</td>\n",
       "      <td>4.0</td>\n",
       "      <td>0.0</td>\n",
       "    </tr>\n",
       "    <tr>\n",
       "      <th>4</th>\n",
       "      <td>82792482</td>\n",
       "      <td>578522</td>\n",
       "      <td>2017-02-06</td>\n",
       "      <td>0.0</td>\n",
       "      <td>0.0</td>\n",
       "      <td>2.0</td>\n",
       "      <td>0.0</td>\n",
       "    </tr>\n",
       "  </tbody>\n",
       "</table>\n",
       "</div>"
      ],
      "text/plain": [
       "       riid  launch_id    send_dt  Click  Open  Sent  Online Purch\n",
       "0  82697102     784382 2017-07-14    0.0   0.0   4.0           0.0\n",
       "1  82701822     468302 2016-09-07    0.0   0.0   1.0           0.0\n",
       "2  82721162     529482 2016-11-25    0.0   1.0   1.0           0.0\n",
       "3  82723722     503362 2016-10-24    0.0   0.0   4.0           0.0\n",
       "4  82792482     578522 2017-02-06    0.0   0.0   2.0           0.0"
      ]
     },
     "execution_count": 332,
     "metadata": {},
     "output_type": "execute_result"
    }
   ],
   "source": [
    "# Sum the user activity in the last one week for each different event\n",
    "\n",
    "interim_df= interim_df.groupby(['riid','launch_id','send_dt']).sum()\n",
    "interim_df.reset_index(inplace=True) \n",
    "interim_df.head()"
   ]
  },
  {
   "cell_type": "code",
   "execution_count": 333,
   "metadata": {
    "collapsed": false
   },
   "outputs": [
    {
     "data": {
      "text/plain": [
       "(29999, 7)"
      ]
     },
     "execution_count": 333,
     "metadata": {},
     "output_type": "execute_result"
    }
   ],
   "source": [
    "interim_df.shape"
   ]
  },
  {
   "cell_type": "code",
   "execution_count": 444,
   "metadata": {
    "collapsed": false
   },
   "outputs": [
    {
     "data": {
      "text/html": [
       "<div>\n",
       "<table border=\"1\" class=\"dataframe\">\n",
       "  <thead>\n",
       "    <tr style=\"text-align: right;\">\n",
       "      <th></th>\n",
       "      <th>riid</th>\n",
       "      <th>launch_id</th>\n",
       "      <th>opened</th>\n",
       "      <th>send_dt</th>\n",
       "      <th>aq_dt</th>\n",
       "      <th>sub_source</th>\n",
       "      <th>tenure</th>\n",
       "      <th>Click</th>\n",
       "      <th>Open</th>\n",
       "      <th>Sent</th>\n",
       "      <th>Online Purch</th>\n",
       "    </tr>\n",
       "  </thead>\n",
       "  <tbody>\n",
       "    <tr>\n",
       "      <th>0</th>\n",
       "      <td>605591962</td>\n",
       "      <td>784382</td>\n",
       "      <td>0</td>\n",
       "      <td>2017-07-14</td>\n",
       "      <td>2015-10-29</td>\n",
       "      <td>NaN</td>\n",
       "      <td>624</td>\n",
       "      <td>NaN</td>\n",
       "      <td>NaN</td>\n",
       "      <td>NaN</td>\n",
       "      <td>NaN</td>\n",
       "    </tr>\n",
       "    <tr>\n",
       "      <th>1</th>\n",
       "      <td>181990762</td>\n",
       "      <td>422482</td>\n",
       "      <td>0</td>\n",
       "      <td>2016-07-11</td>\n",
       "      <td>2014-12-08</td>\n",
       "      <td>NaN</td>\n",
       "      <td>581</td>\n",
       "      <td>0.0</td>\n",
       "      <td>0.0</td>\n",
       "      <td>5.0</td>\n",
       "      <td>0.0</td>\n",
       "    </tr>\n",
       "    <tr>\n",
       "      <th>2</th>\n",
       "      <td>88630922</td>\n",
       "      <td>468302</td>\n",
       "      <td>0</td>\n",
       "      <td>2016-09-07</td>\n",
       "      <td>2010-09-26</td>\n",
       "      <td>Retail B&amp;M</td>\n",
       "      <td>2173</td>\n",
       "      <td>NaN</td>\n",
       "      <td>NaN</td>\n",
       "      <td>NaN</td>\n",
       "      <td>NaN</td>\n",
       "    </tr>\n",
       "    <tr>\n",
       "      <th>3</th>\n",
       "      <td>259205742</td>\n",
       "      <td>529502</td>\n",
       "      <td>0</td>\n",
       "      <td>2016-11-25</td>\n",
       "      <td>2015-04-14</td>\n",
       "      <td>Online Purchase</td>\n",
       "      <td>591</td>\n",
       "      <td>0.0</td>\n",
       "      <td>0.0</td>\n",
       "      <td>6.0</td>\n",
       "      <td>0.0</td>\n",
       "    </tr>\n",
       "    <tr>\n",
       "      <th>4</th>\n",
       "      <td>172633782</td>\n",
       "      <td>558762</td>\n",
       "      <td>0</td>\n",
       "      <td>2017-01-17</td>\n",
       "      <td>2014-06-19</td>\n",
       "      <td>Retail B&amp;M</td>\n",
       "      <td>943</td>\n",
       "      <td>0.0</td>\n",
       "      <td>0.0</td>\n",
       "      <td>2.0</td>\n",
       "      <td>0.0</td>\n",
       "    </tr>\n",
       "  </tbody>\n",
       "</table>\n",
       "</div>"
      ],
      "text/plain": [
       "        riid  launch_id  opened    send_dt      aq_dt       sub_source  \\\n",
       "0  605591962     784382       0 2017-07-14 2015-10-29              NaN   \n",
       "1  181990762     422482       0 2016-07-11 2014-12-08              NaN   \n",
       "2   88630922     468302       0 2016-09-07 2010-09-26       Retail B&M   \n",
       "3  259205742     529502       0 2016-11-25 2015-04-14  Online Purchase   \n",
       "4  172633782     558762       0 2017-01-17 2014-06-19       Retail B&M   \n",
       "\n",
       "   tenure  Click  Open  Sent  Online Purch  \n",
       "0     624    NaN   NaN   NaN           NaN  \n",
       "1     581    0.0   0.0   5.0           0.0  \n",
       "2    2173    NaN   NaN   NaN           NaN  \n",
       "3     591    0.0   0.0   6.0           0.0  \n",
       "4     943    0.0   0.0   2.0           0.0  "
      ]
     },
     "execution_count": 444,
     "metadata": {},
     "output_type": "execute_result"
    }
   ],
   "source": [
    "# Merge the interim table with merge1 to have the final merged table \n",
    "merged2_df= pd.merge(merge1_df,interim_df,how='left',on=['riid','launch_id','send_dt'])\n",
    "merged2_df.head()"
   ]
  },
  {
   "cell_type": "code",
   "execution_count": 445,
   "metadata": {
    "collapsed": false
   },
   "outputs": [
    {
     "data": {
      "text/plain": [
       "riid            False\n",
       "launch_id       False\n",
       "opened          False\n",
       "send_dt         False\n",
       "aq_dt           False\n",
       "sub_source       True\n",
       "tenure          False\n",
       "Click            True\n",
       "Open             True\n",
       "Sent             True\n",
       "Online Purch     True\n",
       "dtype: bool"
      ]
     },
     "execution_count": 445,
     "metadata": {},
     "output_type": "execute_result"
    }
   ],
   "source": [
    "merged2_df.isnull().any()"
   ]
  },
  {
   "cell_type": "code",
   "execution_count": 446,
   "metadata": {
    "collapsed": false
   },
   "outputs": [],
   "source": [
    "## Feature Transformation\n",
    "\n",
    "merged2_df['sub_source']= merged2_df['sub_source'].fillna('Unknown')\n",
    "merged2_df= merged2_df.fillna(0)\n",
    "\n",
    "merged2_df['send_year']= merged2_df['send_dt'].dt.year\n",
    "merged2_df['send_month']= merged2_df['send_dt'].dt.month\n",
    "merged2_df['send_day']= merged2_df['send_dt'].dt.day\n",
    "#merged2_df.drop(['riid','send_dt','aq_dt'], axis=1,inplace = True)\n",
    "#merged2_df = pd.get_dummies(data= merged2_df, columns=['launch_id','sub_source','send_year'])"
   ]
  },
  {
   "cell_type": "markdown",
   "metadata": {},
   "source": [
    "## Checkpoint "
   ]
  },
  {
   "cell_type": "code",
   "execution_count": 447,
   "metadata": {
    "collapsed": false
   },
   "outputs": [
    {
     "data": {
      "text/plain": [
       "(40000, 14)"
      ]
     },
     "execution_count": 447,
     "metadata": {},
     "output_type": "execute_result"
    }
   ],
   "source": [
    "data_df= merged2_df\n",
    "data_df.shape"
   ]
  },
  {
   "cell_type": "code",
   "execution_count": 347,
   "metadata": {
    "collapsed": false
   },
   "outputs": [],
   "source": [
    "#data_df.describe().T"
   ]
  },
  {
   "cell_type": "code",
   "execution_count": 380,
   "metadata": {
    "collapsed": false
   },
   "outputs": [
    {
     "data": {
      "text/plain": [
       "0    33882\n",
       "1     6118\n",
       "Name: opened, dtype: int64"
      ]
     },
     "execution_count": 380,
     "metadata": {},
     "output_type": "execute_result"
    }
   ],
   "source": [
    "# To check the balance of the target label\n",
    "data_df['opened'].value_counts()"
   ]
  },
  {
   "cell_type": "code",
   "execution_count": 381,
   "metadata": {
    "collapsed": false
   },
   "outputs": [],
   "source": [
    "from sklearn.model_selection import train_test_split\n",
    "from sklearn.model_selection import GridSearchCV\n",
    "from sklearn.ensemble import RandomForestClassifier\n",
    "from sklearn.linear_model import LogisticRegression\n",
    "from sklearn import svm\n",
    "\n",
    "\n",
    "from sklearn.metrics import f1_score\n",
    "from sklearn.metrics import roc_auc_score\n",
    "from sklearn.metrics import precision_score\n",
    "from sklearn.metrics import recall_score\n",
    "from sklearn.metrics import confusion_matrix\n",
    "\n",
    "from imblearn.over_sampling import RandomOverSampler"
   ]
  },
  {
   "cell_type": "code",
   "execution_count": 382,
   "metadata": {
    "collapsed": false
   },
   "outputs": [],
   "source": [
    "target = data_df['opened']\n",
    "features= data_df.drop('opened', axis=1)\n",
    "\n",
    "train_X, test_X, train_y, test_y = train_test_split(features, target, test_size=0.3, random_state=42)\n",
    "\n",
    "X_train =train_X.drop(['riid','send_dt','aq_dt'], axis=1)\n",
    "X_train = pd.get_dummies(data= X_train, columns=['launch_id','sub_source','send_year'])\n",
    "\n",
    "\n",
    "X_test =test_X.drop(['riid','send_dt','aq_dt'], axis=1)\n",
    "X_test = pd.get_dummies(data= X_test, columns=['launch_id','sub_source','send_year'])\n",
    "\n"
   ]
  },
  {
   "cell_type": "code",
   "execution_count": 383,
   "metadata": {
    "collapsed": false
   },
   "outputs": [
    {
     "name": "stdout",
     "output_type": "stream",
     "text": [
      "0.829083333333\n",
      "0.616088303113\n",
      "[[9381  781]\n",
      " [1270  568]]\n",
      "CPU times: user 436 ms, sys: 26.1 ms, total: 463 ms\n",
      "Wall time: 467 ms\n"
     ]
    }
   ],
   "source": [
    "%%time\n",
    "clf_rf = RandomForestClassifier( random_state=40)\n",
    "clf_rf.fit(X_train,y_train)\n",
    "\n",
    "pred= clf_rf.predict(X_test)\n",
    "\n",
    "\n",
    "print (f1_score(y_test,pred, average='micro'))\n",
    "print (roc_auc_score(y_test,pred, average='micro'))\n",
    "print (confusion_matrix(y_test,pred))"
   ]
  },
  {
   "cell_type": "code",
   "execution_count": 384,
   "metadata": {
    "collapsed": false
   },
   "outputs": [
    {
     "name": "stdout",
     "output_type": "stream",
     "text": [
      "0.862416666667\n",
      "0.591203086709\n",
      "[[9981  181]\n",
      " [1470  368]]\n",
      "CPU times: user 238 ms, sys: 19.8 ms, total: 257 ms\n",
      "Wall time: 263 ms\n"
     ]
    }
   ],
   "source": [
    "%%time\n",
    "clf_lr = LogisticRegression( random_state=40)\n",
    "clf_lr.fit(X_train,y_train)\n",
    "\n",
    "pred= clf_lr.predict(X_test)\n",
    "\n",
    "\n",
    "print (f1_score(y_test,pred, average='micro'))\n",
    "print (roc_auc_score(y_test,pred, average='micro'))\n",
    "print (confusion_matrix(y_test,pred))"
   ]
  },
  {
   "cell_type": "code",
   "execution_count": 385,
   "metadata": {
    "collapsed": false
   },
   "outputs": [
    {
     "name": "stdout",
     "output_type": "stream",
     "text": [
      "0.8495\n",
      "0.527645826404\n",
      "[[10077    85]\n",
      " [ 1721   117]]\n",
      "CPU times: user 2min 47s, sys: 1.83 s, total: 2min 49s\n",
      "Wall time: 2min 52s\n"
     ]
    }
   ],
   "source": [
    "%%time\n",
    "clf_svm = svm.SVC( random_state=40)\n",
    "clf_svm.fit(X_train,y_train)\n",
    "\n",
    "pred= clf_svm.predict(X_test)\n",
    "\n",
    "\n",
    "print (f1_score(y_test,pred, average='micro'))\n",
    "print (roc_auc_score(y_test,pred, average='micro'))\n",
    "print (confusion_matrix(y_test,pred))"
   ]
  },
  {
   "cell_type": "markdown",
   "metadata": {},
   "source": [
    "## Normalization with Oversampling"
   ]
  },
  {
   "cell_type": "code",
   "execution_count": 448,
   "metadata": {
    "collapsed": false
   },
   "outputs": [],
   "source": [
    "data_df= merged2_df\n",
    "target= data_df['opened']\n",
    "features= data_df.drop('opened',axis=1)\n",
    "#features= (features-features.mean())/features.std() # Standardization\n",
    "\n",
    "train_X, test_X, train_y, test_y = train_test_split(features, target, test_size=0.3, random_state=42)\n",
    "\n",
    "X_train =train_X.drop(['riid','send_dt','aq_dt'], axis=1)\n",
    "X_train = pd.get_dummies(data= X_train, columns=['launch_id','sub_source','send_year'])\n",
    "X_train = (X_train - X_train.mean())/X_train.std() # Standardization\n",
    "\n",
    "X_test =test_X.drop(['riid','send_dt','aq_dt'], axis=1)\n",
    "X_test = pd.get_dummies(data= X_test, columns=['launch_id','sub_source','send_year'])\n",
    "X_test = (X_test - X_test.mean())/X_test.std() # Standardization"
   ]
  },
  {
   "cell_type": "code",
   "execution_count": 449,
   "metadata": {
    "collapsed": false
   },
   "outputs": [
    {
     "name": "stdout",
     "output_type": "stream",
     "text": [
      "(47440, 58)\n",
      "(47440,)\n",
      "[23720 23720]\n"
     ]
    }
   ],
   "source": [
    "#  Oversampling \n",
    "rus = RandomOverSampler(random_state=42)\n",
    "X_res, y_res = rus.fit_sample(X_train,y_train)\n",
    "print (X_res.shape)\n",
    "print (y_res.shape)\n",
    "print (np.bincount(y_res))"
   ]
  },
  {
   "cell_type": "code",
   "execution_count": 433,
   "metadata": {
    "collapsed": false
   },
   "outputs": [
    {
     "name": "stdout",
     "output_type": "stream",
     "text": [
      "0.803083333333\n",
      "0.634161780462\n",
      "[[8919 1243]\n",
      " [1120  718]]\n",
      "CPU times: user 576 ms, sys: 29.4 ms, total: 605 ms\n",
      "Wall time: 619 ms\n"
     ]
    }
   ],
   "source": [
    "%%time\n",
    "clf_rf = RandomForestClassifier( random_state=40)\n",
    "clf_rf.fit(X_res,y_res)\n",
    "\n",
    "pred= clf_rf.predict(X_test)\n",
    "\n",
    "\n",
    "print (f1_score(y_test,pred, average='micro'))\n",
    "print (roc_auc_score(y_test,pred, average='micro'))\n",
    "print (confusion_matrix(y_test,pred))"
   ]
  },
  {
   "cell_type": "code",
   "execution_count": 439,
   "metadata": {
    "collapsed": false
   },
   "outputs": [
    {
     "name": "stdout",
     "output_type": "stream",
     "text": [
      "0.806833333333\n",
      "0.710133272969\n",
      "[[8633 1529]\n",
      " [ 789 1049]]\n",
      "CPU times: user 4min 54s, sys: 2.66 s, total: 4min 57s\n",
      "Wall time: 5min\n"
     ]
    }
   ],
   "source": [
    "%%time\n",
    "clf_svm = svm.SVC( random_state=40)\n",
    "clf_svm.fit(X_res,y_res)\n",
    "\n",
    "pred= clf_svm.predict(X_test)\n",
    "\n",
    "\n",
    "print (f1_score(y_test,pred, average='micro'))\n",
    "print (roc_auc_score(y_test,pred, average='micro'))\n",
    "print (confusion_matrix(y_test,pred))"
   ]
  },
  {
   "cell_type": "code",
   "execution_count": 453,
   "metadata": {
    "collapsed": false
   },
   "outputs": [
    {
     "name": "stdout",
     "output_type": "stream",
     "text": [
      "0.820916666667\n",
      "0.715328918527\n",
      "[[8816 1346]\n",
      " [ 803 1035]]\n",
      "CPU times: user 383 ms, sys: 14.7 ms, total: 398 ms\n",
      "Wall time: 404 ms\n"
     ]
    }
   ],
   "source": [
    "%%time\n",
    "clf_lr = LogisticRegression(max_iter=1000, random_state=40)\n",
    "clf_lr.fit(X_res,y_res)\n",
    "\n",
    "pred= clf_lr.predict(X_test)\n",
    "\n",
    "print (f1_score(y_test,pred, average='micro'))\n",
    "print (roc_auc_score(y_test,pred, average='micro'))\n",
    "print (confusion_matrix(y_test,pred))"
   ]
  },
  {
   "cell_type": "code",
   "execution_count": 454,
   "metadata": {
    "collapsed": false
   },
   "outputs": [
    {
     "data": {
      "text/plain": [
       "array([0, 1])"
      ]
     },
     "execution_count": 454,
     "metadata": {},
     "output_type": "execute_result"
    }
   ],
   "source": [
    "clf_lr.classes_"
   ]
  },
  {
   "cell_type": "markdown",
   "metadata": {},
   "source": [
    "## Information for Marketing Manager"
   ]
  },
  {
   "cell_type": "code",
   "execution_count": 459,
   "metadata": {
    "collapsed": false
   },
   "outputs": [
    {
     "name": "stderr",
     "output_type": "stream",
     "text": [
      "/Users/rajegupt/anaconda3/lib/python3.6/site-packages/ipykernel/__main__.py:5: SettingWithCopyWarning: \n",
      "A value is trying to be set on a copy of a slice from a DataFrame.\n",
      "Try using .loc[row_indexer,col_indexer] = value instead\n",
      "\n",
      "See the caveats in the documentation: http://pandas.pydata.org/pandas-docs/stable/indexing.html#indexing-view-versus-copy\n"
     ]
    },
    {
     "data": {
      "text/html": [
       "<div>\n",
       "<table border=\"1\" class=\"dataframe\">\n",
       "  <thead>\n",
       "    <tr style=\"text-align: right;\">\n",
       "      <th></th>\n",
       "      <th>riid</th>\n",
       "      <th>launch_id</th>\n",
       "      <th>send_dt</th>\n",
       "      <th>prob_opened</th>\n",
       "    </tr>\n",
       "  </thead>\n",
       "  <tbody>\n",
       "    <tr>\n",
       "      <th>32823</th>\n",
       "      <td>829467242</td>\n",
       "      <td>784382</td>\n",
       "      <td>2017-07-14</td>\n",
       "      <td>0.376369</td>\n",
       "    </tr>\n",
       "    <tr>\n",
       "      <th>16298</th>\n",
       "      <td>705582442</td>\n",
       "      <td>684802</td>\n",
       "      <td>2017-05-08</td>\n",
       "      <td>0.407312</td>\n",
       "    </tr>\n",
       "    <tr>\n",
       "      <th>28505</th>\n",
       "      <td>97476602</td>\n",
       "      <td>525622</td>\n",
       "      <td>2016-11-22</td>\n",
       "      <td>0.675860</td>\n",
       "    </tr>\n",
       "    <tr>\n",
       "      <th>6689</th>\n",
       "      <td>105140942</td>\n",
       "      <td>529502</td>\n",
       "      <td>2016-11-25</td>\n",
       "      <td>0.781448</td>\n",
       "    </tr>\n",
       "    <tr>\n",
       "      <th>26893</th>\n",
       "      <td>119748782</td>\n",
       "      <td>784382</td>\n",
       "      <td>2017-07-14</td>\n",
       "      <td>0.322868</td>\n",
       "    </tr>\n",
       "  </tbody>\n",
       "</table>\n",
       "</div>"
      ],
      "text/plain": [
       "            riid  launch_id    send_dt  prob_opened\n",
       "32823  829467242     784382 2017-07-14     0.376369\n",
       "16298  705582442     684802 2017-05-08     0.407312\n",
       "28505   97476602     525622 2016-11-22     0.675860\n",
       "6689   105140942     529502 2016-11-25     0.781448\n",
       "26893  119748782     784382 2017-07-14     0.322868"
      ]
     },
     "execution_count": 459,
     "metadata": {},
     "output_type": "execute_result"
    }
   ],
   "source": [
    "# Predicting the prob of class 1\n",
    "prob_opened= clf_lr.predict_proba(X_test)[:,1]\n",
    "\n",
    "test_result= test_X[['riid','launch_id','send_dt']]\n",
    "test_result['prob_opened']=prob_opened\n",
    "test_result.head()"
   ]
  },
  {
   "cell_type": "code",
   "execution_count": 460,
   "metadata": {
    "collapsed": false
   },
   "outputs": [
    {
     "data": {
      "text/plain": [
       "32823    829467242\n",
       "16298    705582442\n",
       "28505     97476602\n",
       "6689     105140942\n",
       "26893    119748782\n",
       "36572    582643262\n",
       "12335    650437102\n",
       "29591    177081722\n",
       "18948    525888082\n",
       "31067    177712462\n",
       "22241    676767122\n",
       "13787    519169122\n",
       "5128     136856442\n",
       "9125     543219362\n",
       "35041    689852622\n",
       "3510     714303082\n",
       "16441    519744242\n",
       "19463    145075782\n",
       "26283    157458702\n",
       "36216    135463102\n",
       "17407    734266902\n",
       "10919    169149422\n",
       "30866    708206822\n",
       "34436    566628242\n",
       "12701    643312942\n",
       "35676    747705762\n",
       "34089    176617742\n",
       "21261    637541442\n",
       "26173    656448122\n",
       "28283    677897322\n",
       "           ...    \n",
       "10623    583934362\n",
       "11414    635335102\n",
       "351      621546082\n",
       "9489     561153622\n",
       "36982    522534002\n",
       "14839    677405822\n",
       "33241    535698942\n",
       "24766    683193222\n",
       "35343    624327502\n",
       "36005    710081482\n",
       "6373     650973942\n",
       "35008    106858722\n",
       "38436    418226322\n",
       "11469    104869842\n",
       "6713     139044362\n",
       "35411    712146402\n",
       "17702    712475262\n",
       "3475      97629962\n",
       "37345    529859042\n",
       "6280     588434682\n",
       "5953     574792182\n",
       "17224    129194162\n",
       "18025     97698582\n",
       "13307    668631682\n",
       "13920     88862182\n",
       "3779     165763682\n",
       "11973    637455542\n",
       "35668    122779022\n",
       "483      627605442\n",
       "1380     519506362\n",
       "Name: riid, dtype: int64"
      ]
     },
     "execution_count": 460,
     "metadata": {},
     "output_type": "execute_result"
    }
   ],
   "source": [
    "test_X['riid']"
   ]
  },
  {
   "cell_type": "code",
   "execution_count": 461,
   "metadata": {
    "collapsed": false
   },
   "outputs": [
    {
     "data": {
      "text/html": [
       "<div>\n",
       "<table border=\"1\" class=\"dataframe\">\n",
       "  <thead>\n",
       "    <tr style=\"text-align: right;\">\n",
       "      <th></th>\n",
       "      <th>0</th>\n",
       "      <th>weighted_impt</th>\n",
       "    </tr>\n",
       "  </thead>\n",
       "  <tbody>\n",
       "    <tr>\n",
       "      <th>0</th>\n",
       "      <td>tenure</td>\n",
       "      <td>0.051612</td>\n",
       "    </tr>\n",
       "    <tr>\n",
       "      <th>1</th>\n",
       "      <td>Click</td>\n",
       "      <td>-0.060230</td>\n",
       "    </tr>\n",
       "    <tr>\n",
       "      <th>2</th>\n",
       "      <td>Open</td>\n",
       "      <td>1.579091</td>\n",
       "    </tr>\n",
       "    <tr>\n",
       "      <th>3</th>\n",
       "      <td>Sent</td>\n",
       "      <td>-0.136556</td>\n",
       "    </tr>\n",
       "    <tr>\n",
       "      <th>4</th>\n",
       "      <td>Online Purch</td>\n",
       "      <td>-0.009044</td>\n",
       "    </tr>\n",
       "    <tr>\n",
       "      <th>5</th>\n",
       "      <td>send_month</td>\n",
       "      <td>0.003658</td>\n",
       "    </tr>\n",
       "    <tr>\n",
       "      <th>6</th>\n",
       "      <td>send_day</td>\n",
       "      <td>0.029020</td>\n",
       "    </tr>\n",
       "    <tr>\n",
       "      <th>7</th>\n",
       "      <td>launch_id_422482</td>\n",
       "      <td>-0.013568</td>\n",
       "    </tr>\n",
       "    <tr>\n",
       "      <th>8</th>\n",
       "      <td>launch_id_435222</td>\n",
       "      <td>0.003279</td>\n",
       "    </tr>\n",
       "    <tr>\n",
       "      <th>9</th>\n",
       "      <td>launch_id_446722</td>\n",
       "      <td>0.024122</td>\n",
       "    </tr>\n",
       "    <tr>\n",
       "      <th>10</th>\n",
       "      <td>launch_id_457862</td>\n",
       "      <td>0.027852</td>\n",
       "    </tr>\n",
       "    <tr>\n",
       "      <th>11</th>\n",
       "      <td>launch_id_468302</td>\n",
       "      <td>-0.085977</td>\n",
       "    </tr>\n",
       "    <tr>\n",
       "      <th>12</th>\n",
       "      <td>launch_id_478342</td>\n",
       "      <td>-0.018013</td>\n",
       "    </tr>\n",
       "    <tr>\n",
       "      <th>13</th>\n",
       "      <td>launch_id_478382</td>\n",
       "      <td>-0.062739</td>\n",
       "    </tr>\n",
       "    <tr>\n",
       "      <th>14</th>\n",
       "      <td>launch_id_478422</td>\n",
       "      <td>-0.082348</td>\n",
       "    </tr>\n",
       "    <tr>\n",
       "      <th>15</th>\n",
       "      <td>launch_id_486182</td>\n",
       "      <td>0.059768</td>\n",
       "    </tr>\n",
       "    <tr>\n",
       "      <th>16</th>\n",
       "      <td>launch_id_486442</td>\n",
       "      <td>-0.024263</td>\n",
       "    </tr>\n",
       "    <tr>\n",
       "      <th>17</th>\n",
       "      <td>launch_id_486462</td>\n",
       "      <td>-0.030137</td>\n",
       "    </tr>\n",
       "    <tr>\n",
       "      <th>18</th>\n",
       "      <td>launch_id_503362</td>\n",
       "      <td>0.017126</td>\n",
       "    </tr>\n",
       "    <tr>\n",
       "      <th>19</th>\n",
       "      <td>launch_id_503382</td>\n",
       "      <td>0.000197</td>\n",
       "    </tr>\n",
       "    <tr>\n",
       "      <th>20</th>\n",
       "      <td>launch_id_509322</td>\n",
       "      <td>-0.018608</td>\n",
       "    </tr>\n",
       "    <tr>\n",
       "      <th>21</th>\n",
       "      <td>launch_id_509362</td>\n",
       "      <td>0.031482</td>\n",
       "    </tr>\n",
       "    <tr>\n",
       "      <th>22</th>\n",
       "      <td>launch_id_509382</td>\n",
       "      <td>0.004661</td>\n",
       "    </tr>\n",
       "    <tr>\n",
       "      <th>23</th>\n",
       "      <td>launch_id_525622</td>\n",
       "      <td>0.042799</td>\n",
       "    </tr>\n",
       "    <tr>\n",
       "      <th>24</th>\n",
       "      <td>launch_id_525642</td>\n",
       "      <td>0.008635</td>\n",
       "    </tr>\n",
       "    <tr>\n",
       "      <th>25</th>\n",
       "      <td>launch_id_529482</td>\n",
       "      <td>-0.038404</td>\n",
       "    </tr>\n",
       "    <tr>\n",
       "      <th>26</th>\n",
       "      <td>launch_id_529502</td>\n",
       "      <td>-0.015961</td>\n",
       "    </tr>\n",
       "    <tr>\n",
       "      <th>27</th>\n",
       "      <td>launch_id_537282</td>\n",
       "      <td>0.074577</td>\n",
       "    </tr>\n",
       "    <tr>\n",
       "      <th>28</th>\n",
       "      <td>launch_id_537302</td>\n",
       "      <td>-0.034310</td>\n",
       "    </tr>\n",
       "    <tr>\n",
       "      <th>29</th>\n",
       "      <td>launch_id_549762</td>\n",
       "      <td>0.065326</td>\n",
       "    </tr>\n",
       "    <tr>\n",
       "      <th>30</th>\n",
       "      <td>launch_id_549782</td>\n",
       "      <td>0.084525</td>\n",
       "    </tr>\n",
       "    <tr>\n",
       "      <th>31</th>\n",
       "      <td>launch_id_558762</td>\n",
       "      <td>-0.031297</td>\n",
       "    </tr>\n",
       "    <tr>\n",
       "      <th>32</th>\n",
       "      <td>launch_id_558782</td>\n",
       "      <td>0.006572</td>\n",
       "    </tr>\n",
       "    <tr>\n",
       "      <th>33</th>\n",
       "      <td>launch_id_570642</td>\n",
       "      <td>0.011757</td>\n",
       "    </tr>\n",
       "    <tr>\n",
       "      <th>34</th>\n",
       "      <td>launch_id_578522</td>\n",
       "      <td>0.032649</td>\n",
       "    </tr>\n",
       "    <tr>\n",
       "      <th>35</th>\n",
       "      <td>launch_id_589662</td>\n",
       "      <td>-0.023337</td>\n",
       "    </tr>\n",
       "    <tr>\n",
       "      <th>36</th>\n",
       "      <td>launch_id_589682</td>\n",
       "      <td>0.018724</td>\n",
       "    </tr>\n",
       "    <tr>\n",
       "      <th>37</th>\n",
       "      <td>launch_id_601102</td>\n",
       "      <td>0.041939</td>\n",
       "    </tr>\n",
       "    <tr>\n",
       "      <th>38</th>\n",
       "      <td>launch_id_601122</td>\n",
       "      <td>-0.060957</td>\n",
       "    </tr>\n",
       "    <tr>\n",
       "      <th>39</th>\n",
       "      <td>launch_id_623862</td>\n",
       "      <td>-0.007806</td>\n",
       "    </tr>\n",
       "    <tr>\n",
       "      <th>40</th>\n",
       "      <td>launch_id_642742</td>\n",
       "      <td>0.069637</td>\n",
       "    </tr>\n",
       "    <tr>\n",
       "      <th>41</th>\n",
       "      <td>launch_id_660762</td>\n",
       "      <td>0.017163</td>\n",
       "    </tr>\n",
       "    <tr>\n",
       "      <th>42</th>\n",
       "      <td>launch_id_684802</td>\n",
       "      <td>0.037619</td>\n",
       "    </tr>\n",
       "    <tr>\n",
       "      <th>43</th>\n",
       "      <td>launch_id_708722</td>\n",
       "      <td>-0.018188</td>\n",
       "    </tr>\n",
       "    <tr>\n",
       "      <th>44</th>\n",
       "      <td>launch_id_708742</td>\n",
       "      <td>-0.003529</td>\n",
       "    </tr>\n",
       "    <tr>\n",
       "      <th>45</th>\n",
       "      <td>launch_id_737882</td>\n",
       "      <td>0.000424</td>\n",
       "    </tr>\n",
       "    <tr>\n",
       "      <th>46</th>\n",
       "      <td>launch_id_738662</td>\n",
       "      <td>0.011121</td>\n",
       "    </tr>\n",
       "    <tr>\n",
       "      <th>47</th>\n",
       "      <td>launch_id_752462</td>\n",
       "      <td>0.009347</td>\n",
       "    </tr>\n",
       "    <tr>\n",
       "      <th>48</th>\n",
       "      <td>launch_id_784382</td>\n",
       "      <td>-0.015827</td>\n",
       "    </tr>\n",
       "    <tr>\n",
       "      <th>49</th>\n",
       "      <td>sub_source_Online Purchase</td>\n",
       "      <td>0.059112</td>\n",
       "    </tr>\n",
       "    <tr>\n",
       "      <th>50</th>\n",
       "      <td>sub_source_Online Sale Access</td>\n",
       "      <td>0.014624</td>\n",
       "    </tr>\n",
       "    <tr>\n",
       "      <th>51</th>\n",
       "      <td>sub_source_Online Subscribe</td>\n",
       "      <td>0.015031</td>\n",
       "    </tr>\n",
       "    <tr>\n",
       "      <th>52</th>\n",
       "      <td>sub_source_Retail B&amp;M</td>\n",
       "      <td>0.025874</td>\n",
       "    </tr>\n",
       "    <tr>\n",
       "      <th>53</th>\n",
       "      <td>sub_source_Social</td>\n",
       "      <td>-0.008474</td>\n",
       "    </tr>\n",
       "    <tr>\n",
       "      <th>54</th>\n",
       "      <td>sub_source_Sports/Brand</td>\n",
       "      <td>0.030912</td>\n",
       "    </tr>\n",
       "    <tr>\n",
       "      <th>55</th>\n",
       "      <td>sub_source_Unknown</td>\n",
       "      <td>-0.101791</td>\n",
       "    </tr>\n",
       "    <tr>\n",
       "      <th>56</th>\n",
       "      <td>send_year_2016</td>\n",
       "      <td>-0.019524</td>\n",
       "    </tr>\n",
       "    <tr>\n",
       "      <th>57</th>\n",
       "      <td>send_year_2017</td>\n",
       "      <td>0.019524</td>\n",
       "    </tr>\n",
       "  </tbody>\n",
       "</table>\n",
       "</div>"
      ],
      "text/plain": [
       "                                0  weighted_impt\n",
       "0                          tenure       0.051612\n",
       "1                           Click      -0.060230\n",
       "2                            Open       1.579091\n",
       "3                            Sent      -0.136556\n",
       "4                    Online Purch      -0.009044\n",
       "5                      send_month       0.003658\n",
       "6                        send_day       0.029020\n",
       "7                launch_id_422482      -0.013568\n",
       "8                launch_id_435222       0.003279\n",
       "9                launch_id_446722       0.024122\n",
       "10               launch_id_457862       0.027852\n",
       "11               launch_id_468302      -0.085977\n",
       "12               launch_id_478342      -0.018013\n",
       "13               launch_id_478382      -0.062739\n",
       "14               launch_id_478422      -0.082348\n",
       "15               launch_id_486182       0.059768\n",
       "16               launch_id_486442      -0.024263\n",
       "17               launch_id_486462      -0.030137\n",
       "18               launch_id_503362       0.017126\n",
       "19               launch_id_503382       0.000197\n",
       "20               launch_id_509322      -0.018608\n",
       "21               launch_id_509362       0.031482\n",
       "22               launch_id_509382       0.004661\n",
       "23               launch_id_525622       0.042799\n",
       "24               launch_id_525642       0.008635\n",
       "25               launch_id_529482      -0.038404\n",
       "26               launch_id_529502      -0.015961\n",
       "27               launch_id_537282       0.074577\n",
       "28               launch_id_537302      -0.034310\n",
       "29               launch_id_549762       0.065326\n",
       "30               launch_id_549782       0.084525\n",
       "31               launch_id_558762      -0.031297\n",
       "32               launch_id_558782       0.006572\n",
       "33               launch_id_570642       0.011757\n",
       "34               launch_id_578522       0.032649\n",
       "35               launch_id_589662      -0.023337\n",
       "36               launch_id_589682       0.018724\n",
       "37               launch_id_601102       0.041939\n",
       "38               launch_id_601122      -0.060957\n",
       "39               launch_id_623862      -0.007806\n",
       "40               launch_id_642742       0.069637\n",
       "41               launch_id_660762       0.017163\n",
       "42               launch_id_684802       0.037619\n",
       "43               launch_id_708722      -0.018188\n",
       "44               launch_id_708742      -0.003529\n",
       "45               launch_id_737882       0.000424\n",
       "46               launch_id_738662       0.011121\n",
       "47               launch_id_752462       0.009347\n",
       "48               launch_id_784382      -0.015827\n",
       "49     sub_source_Online Purchase       0.059112\n",
       "50  sub_source_Online Sale Access       0.014624\n",
       "51    sub_source_Online Subscribe       0.015031\n",
       "52          sub_source_Retail B&M       0.025874\n",
       "53              sub_source_Social      -0.008474\n",
       "54        sub_source_Sports/Brand       0.030912\n",
       "55             sub_source_Unknown      -0.101791\n",
       "56                 send_year_2016      -0.019524\n",
       "57                 send_year_2017       0.019524"
      ]
     },
     "execution_count": 461,
     "metadata": {},
     "output_type": "execute_result"
    }
   ],
   "source": [
    "# Important KPIs\n",
    "imp_kpi= pd.DataFrame(np.array(X_train.columns))\n",
    "imp_kpi['weighted_impt']=pd.DataFrame((clf_lr.coef_).T)\n",
    "imp_kpi"
   ]
  },
  {
   "cell_type": "code",
   "execution_count": 462,
   "metadata": {
    "collapsed": true
   },
   "outputs": [],
   "source": [
    "test_result.to_csv(\"Q4_Test_result_pred_prob.csv\")\n",
    "imp_kpi.to_csv(\"imp_kpi_log_reg.csv\")"
   ]
  },
  {
   "cell_type": "code",
   "execution_count": null,
   "metadata": {
    "collapsed": true
   },
   "outputs": [],
   "source": []
  }
 ],
 "metadata": {
  "kernelspec": {
   "display_name": "Python 3",
   "language": "python",
   "name": "python3"
  },
  "language_info": {
   "codemirror_mode": {
    "name": "ipython",
    "version": 3
   },
   "file_extension": ".py",
   "mimetype": "text/x-python",
   "name": "python",
   "nbconvert_exporter": "python",
   "pygments_lexer": "ipython3",
   "version": "3.6.0"
  }
 },
 "nbformat": 4,
 "nbformat_minor": 2
}
